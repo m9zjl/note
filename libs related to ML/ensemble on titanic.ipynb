{
 "cells": [
  {
   "cell_type": "code",
   "execution_count": 2,
   "metadata": {},
   "outputs": [],
   "source": [
    "import pandas as pd\n",
    "import numpy as np\n",
    "import matplotlib.pyplot as plt\n",
    "import seaborn as sns\n",
    "import sklearn\n",
    "%matplotlib inline\n",
    "import warnings\n",
    "warnings.filterwarnings('ignore')\n"
   ]
  },
  {
   "cell_type": "markdown",
   "metadata": {},
   "source": [
    "#import ensemble method form sklearn"
   ]
  },
  {
   "cell_type": "code",
   "execution_count": 6,
   "metadata": {},
   "outputs": [],
   "source": [
    "from sklearn.ensemble import RandomForestClassifier,\\\n",
    "    AdaBoostClassifier,GradientBoostingClassifier,ExtraTreesClassifier\n",
    "from sklearn.svm import SVC\n",
    "from sklearn.cross_validation import KFold"
   ]
  },
  {
   "cell_type": "code",
   "execution_count": 7,
   "metadata": {},
   "outputs": [],
   "source": [
    "train = pd.read_csv('/Users/ben/Documents/datasets/titanic/train.csv')\n",
    "test = pd.read_csv('/Users/ben/Documents/datasets/titanic/test.csv')"
   ]
  },
  {
   "cell_type": "code",
   "execution_count": 10,
   "metadata": {},
   "outputs": [
    {
     "data": {
      "text/html": [
       "<div>\n",
       "<style scoped>\n",
       "    .dataframe tbody tr th:only-of-type {\n",
       "        vertical-align: middle;\n",
       "    }\n",
       "\n",
       "    .dataframe tbody tr th {\n",
       "        vertical-align: top;\n",
       "    }\n",
       "\n",
       "    .dataframe thead th {\n",
       "        text-align: right;\n",
       "    }\n",
       "</style>\n",
       "<table border=\"1\" class=\"dataframe\">\n",
       "  <thead>\n",
       "    <tr style=\"text-align: right;\">\n",
       "      <th></th>\n",
       "      <th>PassengerId</th>\n",
       "      <th>Survived</th>\n",
       "      <th>Pclass</th>\n",
       "      <th>Name</th>\n",
       "      <th>Sex</th>\n",
       "      <th>Age</th>\n",
       "      <th>SibSp</th>\n",
       "      <th>Parch</th>\n",
       "      <th>Ticket</th>\n",
       "      <th>Fare</th>\n",
       "      <th>Cabin</th>\n",
       "      <th>Embarked</th>\n",
       "    </tr>\n",
       "  </thead>\n",
       "  <tbody>\n",
       "    <tr>\n",
       "      <th>0</th>\n",
       "      <td>1</td>\n",
       "      <td>0</td>\n",
       "      <td>3</td>\n",
       "      <td>Braund, Mr. Owen Harris</td>\n",
       "      <td>male</td>\n",
       "      <td>22.0</td>\n",
       "      <td>1</td>\n",
       "      <td>0</td>\n",
       "      <td>A/5 21171</td>\n",
       "      <td>7.2500</td>\n",
       "      <td>NaN</td>\n",
       "      <td>S</td>\n",
       "    </tr>\n",
       "    <tr>\n",
       "      <th>1</th>\n",
       "      <td>2</td>\n",
       "      <td>1</td>\n",
       "      <td>1</td>\n",
       "      <td>Cumings, Mrs. John Bradley (Florence Briggs Th...</td>\n",
       "      <td>female</td>\n",
       "      <td>38.0</td>\n",
       "      <td>1</td>\n",
       "      <td>0</td>\n",
       "      <td>PC 17599</td>\n",
       "      <td>71.2833</td>\n",
       "      <td>C85</td>\n",
       "      <td>C</td>\n",
       "    </tr>\n",
       "    <tr>\n",
       "      <th>2</th>\n",
       "      <td>3</td>\n",
       "      <td>1</td>\n",
       "      <td>3</td>\n",
       "      <td>Heikkinen, Miss. Laina</td>\n",
       "      <td>female</td>\n",
       "      <td>26.0</td>\n",
       "      <td>0</td>\n",
       "      <td>0</td>\n",
       "      <td>STON/O2. 3101282</td>\n",
       "      <td>7.9250</td>\n",
       "      <td>NaN</td>\n",
       "      <td>S</td>\n",
       "    </tr>\n",
       "  </tbody>\n",
       "</table>\n",
       "</div>"
      ],
      "text/plain": [
       "   PassengerId  Survived  Pclass  \\\n",
       "0            1         0       3   \n",
       "1            2         1       1   \n",
       "2            3         1       3   \n",
       "\n",
       "                                                Name     Sex   Age  SibSp  \\\n",
       "0                            Braund, Mr. Owen Harris    male  22.0      1   \n",
       "1  Cumings, Mrs. John Bradley (Florence Briggs Th...  female  38.0      1   \n",
       "2                             Heikkinen, Miss. Laina  female  26.0      0   \n",
       "\n",
       "   Parch            Ticket     Fare Cabin Embarked  \n",
       "0      0         A/5 21171   7.2500   NaN        S  \n",
       "1      0          PC 17599  71.2833   C85        C  \n",
       "2      0  STON/O2. 3101282   7.9250   NaN        S  "
      ]
     },
     "execution_count": 10,
     "metadata": {},
     "output_type": "execute_result"
    }
   ],
   "source": [
    "PassengerId = test.PassengerId\n",
    "train.head(3)"
   ]
  },
  {
   "cell_type": "code",
   "execution_count": 43,
   "metadata": {},
   "outputs": [],
   "source": [
    "full_data = [train, test]\n",
    "# add some featuer\n",
    "# give the lengt of the name\n",
    "for data in full_data:\n",
    "    data['FamilySize'] = data['SibSp'] + data['Parch'] +1\n",
    "    data.IsAlone = 0\n",
    "    data.loc[data['FamilySize']==1,'IsAlone'] =1\n",
    "    data.Embarked = data.Embarked.fillna('S')\n",
    "    data.Fare.fillna(data.Fare.median())\n",
    "    age_null_count = data.Age.isnull().sum()\n",
    "    age_null_list = np.random.randint(data.Age.mean()-data.Age.std(),\\\n",
    "                                     data.Age.mean()+data.Age.std(),\n",
    "                                     size=age_null_count)\n",
    "    \n",
    "    "
   ]
  },
  {
   "cell_type": "code",
   "execution_count": 48,
   "metadata": {},
   "outputs": [],
   "source": [
    "X = train.loc[:,['Sex','Age','Pclass']]\n",
    "X_test = test.loc[:,['Sex','Age','Pclass']]\n",
    "y = train.loc[:,'Survived']"
   ]
  },
  {
   "cell_type": "code",
   "execution_count": 68,
   "metadata": {},
   "outputs": [],
   "source": [
    "X.Age = X.Age.fillna(X.Age.mean())\n",
    "X_test.Age = X_test.Age.fillna(X.Age.mean())\n",
    "\n",
    "from sklearn.preprocessing import LabelEncoder\n",
    "le = LabelEncoder()\n",
    "X.Sex = le.fit(X.Sex).transform(X.Sex)\n",
    "X_test.Sex = le.fit_transform(X_test.Sex)"
   ]
  },
  {
   "cell_type": "code",
   "execution_count": 69,
   "metadata": {},
   "outputs": [],
   "source": [
    "from sklearn.model_selection import train_test_split\n",
    "x_train,x_test,y_train,y_test = train_test_split(X,y,test_size=.3,random_state=42)"
   ]
  },
  {
   "cell_type": "code",
   "execution_count": 72,
   "metadata": {},
   "outputs": [
    {
     "name": "stdout",
     "output_type": "stream",
     "text": [
      "     Sex        Age  Pclass\n",
      "445    1   4.000000       1\n",
      "650    1  29.699118       3\n",
      "172    0   1.000000       3\n",
      "450    1  36.000000       2\n",
      "314    1  43.000000       2\n"
     ]
    },
    {
     "data": {
      "text/plain": [
       "<matplotlib.axes._subplots.AxesSubplot at 0x1180fbe48>"
      ]
     },
     "execution_count": 72,
     "metadata": {},
     "output_type": "execute_result"
    },
    {
     "data": {
      "image/png": "[encoded data removed]",
      "text/plain": [
       "<Figure size 432x288 with 2 Axes>"
      ]
     },
     "metadata": {},
     "output_type": "display_data"
    }
   ],
   "source": [
    "print(x_train.head())\n",
    "sns.heatmap(x_train.corr())"
   ]
  },
  {
   "cell_type": "code",
   "execution_count": 74,
   "metadata": {},
   "outputs": [
    {
     "name": "stdout",
     "output_type": "stream",
     "text": [
      "timecost 8.374172000000002\n",
      "best params {'criterion': 'gini', 'min_impurity_decrease': 0.0020408163265306124}\n",
      " best score:0.812199036918138\n"
     ]
    }
   ],
   "source": [
    "from sklearn.ensemble import RandomForestClassifier\n",
    "import time\n",
    "from sklearn.grid_search import GridSearchCV\n",
    "start = time.clock()\n",
    "entropy_thresholds = np.linspace(0, 1, 50)\n",
    "gini_thresholds = np.linspace(0, 0.1, 50)\n",
    "#设置参数矩阵：\n",
    "param_grid = [{'criterion': ['entropy'], 'min_impurity_decrease': entropy_thresholds},\n",
    "              {'criterion': ['gini'], 'min_impurity_decrease': gini_thresholds},\n",
    "              {'max_depth': np.arange(2,10)},\n",
    "              {'min_samples_split': np.arange(2,20)},\n",
    "              {'n_estimators':np.arange(2,20)}]\n",
    "\n",
    "clf = GridSearchCV(RandomForestClassifier(),param_grid,cv=5)\n",
    "clf.fit(x_train,y_train)\n",
    "print(\"timecost\",time.clock() - start)\n",
    "print('best params {0}\\n best score:{1}'.format(clf.best_params_,clf.best_score_))"
   ]
  },
  {
   "cell_type": "code",
   "execution_count": 77,
   "metadata": {},
   "outputs": [
    {
     "name": "stdout",
     "output_type": "stream",
     "text": [
      "训练集得分: 0.8635634028892456\n",
      "测试集得分: 0.8097014925373134\n",
      "查准率: 0.7884615384615384\n",
      "召回率: 0.7387387387387387\n",
      "F1_score: 0.7627906976744186\n"
     ]
    }
   ],
   "source": [
    "from sklearn import  metrics\n",
    "clf = RandomForestClassifier(min_samples_split=10)\n",
    "clf.fit(x_train, y_train)\n",
    "y_pred = clf.predict(x_test)\n",
    "\n",
    "print(\"训练集得分:\", clf.score(x_train, y_train))\n",
    "print(\"测试集得分:\", clf.score(x_test, y_test))\n",
    "print(\"查准率:\", metrics.precision_score(y_test, y_pred))\n",
    "print(\"召回率:\", metrics.recall_score(y_test, y_pred))\n",
    "print(\"F1_score:\", metrics.f1_score(y_test, y_pred))\n"
   ]
  },
  {
   "cell_type": "code",
   "execution_count": 80,
   "metadata": {},
   "outputs": [
    {
     "name": "stdout",
     "output_type": "stream",
     "text": [
      "训练集得分: 0.8667736757624398\n",
      "测试集得分: 0.8059701492537313\n",
      "查准率: 0.797979797979798\n",
      "召回率: 0.7117117117117117\n",
      "F1_score: 0.7523809523809525\n"
     ]
    }
   ],
   "source": [
    "from sklearn.ensemble import BaggingClassifier\n",
    "clf.fit(x_train,y_train)\n",
    "y_pred = clf.predict(x_test)\n",
    "print(\"训练集得分:\", clf.score(x_train, y_train))\n",
    "print(\"测试集得分:\", clf.score(x_test, y_test))\n",
    "print(\"查准率:\", metrics.precision_score(y_test, y_pred))\n",
    "print(\"召回率:\", metrics.recall_score(y_test, y_pred))\n",
    "print(\"F1_score:\", metrics.f1_score(y_test, y_pred))\n"
   ]
  },
  {
   "cell_type": "code",
   "execution_count": 83,
   "metadata": {},
   "outputs": [
    {
     "name": "stdout",
     "output_type": "stream",
     "text": [
      "训练集得分: 0.8154093097913323\n",
      "测试集得分: 0.7985074626865671\n",
      "查准率: 0.7878787878787878\n",
      "召回率: 0.7027027027027027\n",
      "F1_score: 0.7428571428571429\n"
     ]
    }
   ],
   "source": [
    "from sklearn.ensemble import AdaBoostClassifier\n",
    "\n",
    "clf = AdaBoostClassifier()\n",
    "clf.fit(x_train, y_train)\n",
    "y_pred = clf.predict(x_test)\n",
    "\n",
    "print(\"训练集得分:\", clf.score(x_train, y_train))\n",
    "print(\"测试集得分:\", clf.score(x_test, y_test))\n",
    "print(\"查准率:\", metrics.precision_score(y_test, y_pred))\n",
    "print(\"召回率:\", metrics.recall_score(y_test, y_pred))\n",
    "print(\"F1_score:\", metrics.f1_score(y_test, y_pred))\n"
   ]
  },
  {
   "cell_type": "code",
   "execution_count": null,
   "metadata": {},
   "outputs": [],
   "source": []
  }
 ],
 "metadata": {
  "kernelspec": {
   "display_name": "Python 3",
   "language": "python",
   "name": "python3"
  },
  "language_info": {
   "codemirror_mode": {
    "name": "ipython",
    "version": 3
   },
   "file_extension": ".py",
   "mimetype": "text/x-python",
   "name": "python",
   "nbconvert_exporter": "python",
   "pygments_lexer": "ipython3",
   "version": "3.6.5"
  }
 },
 "nbformat": 4,
 "nbformat_minor": 2
}
